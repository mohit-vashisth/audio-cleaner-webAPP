{
 "cells": [
  {
   "cell_type": "code",
   "execution_count": 11,
   "id": "0782bab5",
   "metadata": {},
   "outputs": [],
   "source": [
    "import librosa\n",
    "import soundfile as sf\n",
    "from IPython.display import Audio\n",
    "from glob import glob\n",
    "import numpy as np\n",
    "import matplotlib.pyplot as plt\n",
    "from scipy.signal import correlate\n",
    "from scipy.signal import butter, lfilter, resample\n",
    "\n",
    "\n",
    "audio_file = glob(r\"C:\\Users\\Admin\\Documents\\audio-cleaner-webAPP\\backend\\uploads\\sample.mp3\")[0]"
   ]
  },
  {
   "cell_type": "code",
   "execution_count": null,
   "id": "82f35ad7",
   "metadata": {},
   "outputs": [],
   "source": []
  },
  {
   "cell_type": "code",
   "execution_count": null,
   "id": "2251b60f",
   "metadata": {},
   "outputs": [],
   "source": []
  }
 ],
 "metadata": {
  "kernelspec": {
   "display_name": "Python 3",
   "language": "python",
   "name": "python3"
  },
  "language_info": {
   "codemirror_mode": {
    "name": "ipython",
    "version": 3
   },
   "file_extension": ".py",
   "mimetype": "text/x-python",
   "name": "python",
   "nbconvert_exporter": "python",
   "pygments_lexer": "ipython3",
   "version": "3.11.9"
  }
 },
 "nbformat": 4,
 "nbformat_minor": 5
}
